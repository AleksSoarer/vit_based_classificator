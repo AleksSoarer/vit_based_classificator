{
 "cells": [
  {
   "cell_type": "code",
   "execution_count": 1,
   "id": "ffd756ee-7d9e-4feb-aa67-0a07e8fcd769",
   "metadata": {},
   "outputs": [],
   "source": [
    "import os\n",
    "import cv2\n",
    "from pathlib import Path\n",
    "from datasets import load_dataset\n",
    "from transformers import ViTForImageClassification, ViTImageProcessor\n",
    "from transformers import TrainingArguments, Trainer\n",
    "import torch\n",
    "from torchvision.transforms import Compose, Resize, CenterCrop, ToTensor, Normalize\n",
    "from datasets import DatasetDict\n",
    "from PIL import Image\n",
    "\n"
   ]
  },
  {
   "cell_type": "code",
   "execution_count": null,
   "id": "f127db5c-6e5b-455d-a395-6bae23408763",
   "metadata": {},
   "outputs": [],
   "source": [
    "#Нарезаем объекты для обучения согласно аннотации\n",
    "# Функция для чтения классов из файла\n",
    "def read_classes(file_path):\n",
    "    with open(file_path, 'r') as file:\n",
    "        classes = file.read().strip().split()\n",
    "    return classes\n",
    "\n",
    "# Путь к файлу с описанием классов\n",
    "classes_file = 'classes.txt'\n",
    "class_names = read_classes(classes_file)\n",
    "\n",
    "# Папки для хранения вырезанных изображений по классам\n",
    "output_dirs = {class_name: f'output/{class_name}' for class_name in class_names}\n",
    "\n",
    "# Создание папок, если они не существуют\n",
    "for dir_path in output_dirs.values():\n",
    "    os.makedirs(dir_path, exist_ok=True)\n",
    "\n",
    "# Функция для вырезания объектов из изображения\n",
    "def extract_objects(image_path, annotations_path):\n",
    "    # Чтение изображения\n",
    "    image = cv2.imread(image_path)\n",
    "    height, width = image.shape[:2]\n",
    "    \n",
    "    # Чтение аннотаций\n",
    "    with open(annotations_path, 'r') as file:\n",
    "        lines = file.readlines()\n",
    "    \n",
    "    # Обработка каждой аннотации\n",
    "    obj_count = 0\n",
    "    for line in lines:\n",
    "        parts = line.strip().split()\n",
    "        class_id = int(parts[0])\n",
    "        cx, cy, w, h = map(float, parts[1:])\n",
    "        \n",
    "        # Преобразование относительных координат в абсолютные\n",
    "        x1 = int((cx - w / 2) * width)\n",
    "        y1 = int((cy - h / 2) * height)\n",
    "        x2 = int((cx + w / 2) * width)\n",
    "        y2 = int((cy + h / 2) * height)\n",
    "        \n",
    "        # Вырезание объекта\n",
    "        cropped_img = image[y1:y2, x1:x2]\n",
    "        \n",
    "        # Генерация имени файла и сохранение в соответствующую папку\n",
    "        class_name = class_names[class_id]\n",
    "        output_dir = output_dirs[class_name]\n",
    "        base_filename = os.path.basename(image_path).replace('.jpg', f'_{class_name}_{obj_count}.jpg')\n",
    "        output_path = os.path.join(output_dir, base_filename)\n",
    "        cv2.imwrite(output_path, cropped_img)\n",
    "        \n",
    "        # Увеличение счетчика объектов\n",
    "        obj_count += 1\n",
    "\n",
    "# Путь к папкам с изображениями и аннотациями\n",
    "images_dir = '/mnt/data/images'\n",
    "labels_dir = '/mnt/data/label'\n",
    "\n",
    "# Получение списка файлов изображений и аннотаций\n",
    "image_files = [os.path.join(images_dir, file) for file in os.listdir(images_dir) if file.endswith('.jpg')]\n",
    "annotation_files = [os.path.join(labels_dir, file) for file in os.listdir(labels_dir) if file.endswith('.txt')]\n",
    "\n",
    "# Убедимся, что списки файлов совпадают по длине\n",
    "assert len(image_files) == len(annotation_files), \"Количество изображений и аннотаций не совпадает!\"\n",
    "\n",
    "# Обработка всех файлов\n",
    "for img_file, ann_file in zip(image_files, annotation_files):\n",
    "    extract_objects(img_file, ann_file)\n",
    "\n",
    "print(\"Вырезанные изображения сохранены в папке 'output'.\")"
   ]
  },
  {
   "cell_type": "code",
   "execution_count": 2,
   "id": "27f79fee-5c01-4e6e-97ee-46d0e20362f5",
   "metadata": {},
   "outputs": [
    {
     "data": {
      "application/vnd.jupyter.widget-view+json": {
       "model_id": "cd46a9b0335247d78ca55acfcfbfd91c",
       "version_major": 2,
       "version_minor": 0
      },
      "text/plain": [
       "Resolving data files:   0%|          | 0/3541 [00:00<?, ?it/s]"
      ]
     },
     "metadata": {},
     "output_type": "display_data"
    },
    {
     "name": "stdout",
     "output_type": "stream",
     "text": [
      "DatasetDict({\n",
      "    train: Dataset({\n",
      "        features: ['image', 'label'],\n",
      "        num_rows: 3541\n",
      "    })\n",
      "})\n",
      "{'image': <PIL.JpegImagePlugin.JpegImageFile image mode=RGB size=43x57 at 0x1CE9CC62040>, 'label': 0}\n"
     ]
    }
   ],
   "source": [
    "#Проверим, что данные сохранились\n",
    "# Загрузка данных\n",
    "dataset = load_dataset('imagefolder', data_dir='Z:\\\\Hakatons\\\\Welding\\\\output')\n",
    "\n",
    "# Вывод структуры датасета\n",
    "print(dataset)\n",
    "\n",
    "# Вывод примера данных\n",
    "print(dataset['train'][0])\n"
   ]
  },
  {
   "cell_type": "code",
   "execution_count": 3,
   "id": "591f3e01-5622-494c-97c2-5ae984e199b0",
   "metadata": {},
   "outputs": [
    {
     "name": "stdout",
     "output_type": "stream",
     "text": [
      "True\n",
      "0\n",
      "NVIDIA GeForce RTX 3090 Ti\n"
     ]
    }
   ],
   "source": [
    "#Проверим cuda устройство\n",
    "import torch\n",
    "print(torch.cuda.is_available())\n",
    "print(torch.cuda.current_device())\n",
    "print(torch.cuda.get_device_name(torch.cuda.current_device()))\n",
    "\n"
   ]
  },
  {
   "cell_type": "code",
   "execution_count": 4,
   "id": "74b98460-2c69-4965-b36c-f58be56eba33",
   "metadata": {},
   "outputs": [
    {
     "data": {
      "application/vnd.jupyter.widget-view+json": {
       "model_id": "061372b168fc4e93af53705828e82023",
       "version_major": 2,
       "version_minor": 0
      },
      "text/plain": [
       "Resolving data files:   0%|          | 0/3541 [00:00<?, ?it/s]"
      ]
     },
     "metadata": {},
     "output_type": "display_data"
    },
    {
     "name": "stderr",
     "output_type": "stream",
     "text": [
      "Some weights of ViTForImageClassification were not initialized from the model checkpoint at google/vit-base-patch16-224 and are newly initialized because the shapes did not match:\n",
      "- classifier.bias: found shape torch.Size([1000]) in the checkpoint and torch.Size([5]) in the model instantiated\n",
      "- classifier.weight: found shape torch.Size([1000, 768]) in the checkpoint and torch.Size([5, 768]) in the model instantiated\n",
      "You should probably TRAIN this model on a down-stream task to be able to use it for predictions and inference.\n"
     ]
    },
    {
     "data": {
      "application/vnd.jupyter.widget-view+json": {
       "model_id": "94fcfa39bf234ec0a5b3f514677d0f10",
       "version_major": 2,
       "version_minor": 0
      },
      "text/plain": [
       "Map:   0%|          | 0/2832 [00:00<?, ? examples/s]"
      ]
     },
     "metadata": {},
     "output_type": "display_data"
    },
    {
     "data": {
      "application/vnd.jupyter.widget-view+json": {
       "model_id": "9bdb053c09614ea0867d9ae579d1e89c",
       "version_major": 2,
       "version_minor": 0
      },
      "text/plain": [
       "Map:   0%|          | 0/709 [00:00<?, ? examples/s]"
      ]
     },
     "metadata": {},
     "output_type": "display_data"
    },
    {
     "data": {
      "text/html": [
       "\n",
       "    <div>\n",
       "      \n",
       "      <progress value='54' max='54' style='width:300px; height:20px; vertical-align: middle;'></progress>\n",
       "      [54/54 18:07, Epoch 3/3]\n",
       "    </div>\n",
       "    <table border=\"1\" class=\"dataframe\">\n",
       "  <thead>\n",
       " <tr style=\"text-align: left;\">\n",
       "      <th>Epoch</th>\n",
       "      <th>Training Loss</th>\n",
       "      <th>Validation Loss</th>\n",
       "    </tr>\n",
       "  </thead>\n",
       "  <tbody>\n",
       "    <tr>\n",
       "      <td>1</td>\n",
       "      <td>1.018500</td>\n",
       "      <td>0.396934</td>\n",
       "    </tr>\n",
       "    <tr>\n",
       "      <td>2</td>\n",
       "      <td>0.240100</td>\n",
       "      <td>0.239313</td>\n",
       "    </tr>\n",
       "    <tr>\n",
       "      <td>3</td>\n",
       "      <td>0.103900</td>\n",
       "      <td>0.205639</td>\n",
       "    </tr>\n",
       "  </tbody>\n",
       "</table><p>"
      ],
      "text/plain": [
       "<IPython.core.display.HTML object>"
      ]
     },
     "metadata": {},
     "output_type": "display_data"
    },
    {
     "data": {
      "text/plain": [
       "TrainOutput(global_step=54, training_loss=0.36874069218282346, metrics={'train_runtime': 1125.3554, 'train_samples_per_second': 7.55, 'train_steps_per_second': 0.048, 'total_flos': 6.583896461040353e+17, 'train_loss': 0.36874069218282346, 'epoch': 3.0})"
      ]
     },
     "execution_count": 4,
     "metadata": {},
     "output_type": "execute_result"
    }
   ],
   "source": [
    "import os\n",
    "from pathlib import Path\n",
    "from datasets import load_dataset\n",
    "from transformers import ViTForImageClassification, ViTImageProcessor\n",
    "from transformers import TrainingArguments, Trainer\n",
    "import torch\n",
    "from torch.utils.data import DataLoader\n",
    "from torchvision.transforms import Compose, Resize, CenterCrop, ToTensor, Normalize\n",
    "from datasets import DatasetDict\n",
    "\n",
    "# Загрузка данных\n",
    "dataset = load_dataset('imagefolder', data_dir='Z:\\\\Hakatons\\\\Welding\\\\output')\n",
    "\n",
    "# Разделение датасета на обучающую и тестовую выборки\n",
    "dataset = dataset['train'].train_test_split(test_size=0.2)  # 20% для тестирования\n",
    "\n",
    "# Определение модели и токенизатора (image processor)\n",
    "model_name = 'google/vit-base-patch16-224'\n",
    "image_processor = ViTImageProcessor.from_pretrained(model_name)\n",
    "model = ViTForImageClassification.from_pretrained(model_name, num_labels=len(dataset['train'].features['label'].names), ignore_mismatched_sizes=True)\n",
    "\n",
    "# Определение трансформаций для изображений\n",
    "normalize = Normalize(mean=image_processor.image_mean, std=image_processor.image_std)\n",
    "size = image_processor.size['height']  # Используем конкретное значение размера\n",
    "_transforms = Compose([\n",
    "    Resize((size, size)),  # Применяем Resize с корректными значениями\n",
    "    CenterCrop(size),\n",
    "    ToTensor(),  # Преобразуем изображение в тензор\n",
    "    normalize,\n",
    "])\n",
    "\n",
    "def transform(example):\n",
    "    \"\"\"Функция для применения трансформаций к изображению\"\"\"\n",
    "    if 'image' in example:\n",
    "        example['pixel_values'] = _transforms(example['image'])\n",
    "    return example\n",
    "\n",
    "# Применяем трансформации к датасету\n",
    "dataset = dataset.map(transform, batched=False)\n",
    "\n",
    "# Создаем абсолютный путь для результатов\n",
    "output_dir = Path('./results')\n",
    "os.makedirs(output_dir, exist_ok=True)\n",
    "\n",
    "# Определение параметров обучения\n",
    "training_args = TrainingArguments(\n",
    "    output_dir=str(output_dir),  # Директория для сохранения модели и других результатов\n",
    "    eval_strategy=\"epoch\",  # Изменено на eval_strategy\n",
    "    learning_rate=5e-5,\n",
    "    per_device_train_batch_size=160, #Устанавливаем размер в зависимости от количества видеопамяти\n",
    "    per_device_eval_batch_size=160, #Устанавливаем размер в зависимости от количества видеопамяти\n",
    "    num_train_epochs=3,\n",
    "    weight_decay=0.01,\n",
    "    logging_dir=str(output_dir / 'logs'),  # Директория для логов\n",
    "    report_to=\"none\",  # Отключаем TensorBoard\n",
    "    dataloader_num_workers=0,  # Отключаем многопроцессорную загрузку данных для отладки\n",
    "    fp16=False,  # Отключаем половинную точность для упрощения отладки\n",
    "    logging_steps=10,  # Логгируем чаще\n",
    ")\n",
    "\n",
    "# Функция data_collator\n",
    "def data_collator(data):\n",
    "    pixel_values = [item['pixel_values'] for item in data]\n",
    "    # Добавляем проверку, что все элементы являются тензорами\n",
    "    for i in range(len(pixel_values)):\n",
    "        if isinstance(pixel_values[i], list):\n",
    "            pixel_values[i] = torch.tensor(pixel_values[i])\n",
    "    pixel_values = torch.stack(pixel_values)\n",
    "    labels = torch.tensor([item['label'] for item in data])\n",
    "    return {'pixel_values': pixel_values, 'labels': labels}\n",
    "\n",
    "# Определение Trainer\n",
    "trainer = Trainer(\n",
    "    model=model,\n",
    "    args=training_args,\n",
    "    train_dataset=dataset['train'],\n",
    "    eval_dataset=dataset['test'],\n",
    "    tokenizer=image_processor,\n",
    "    data_collator=data_collator\n",
    ")\n",
    "\n",
    "# Обучение модели\n",
    "trainer.train()\n"
   ]
  },
  {
   "cell_type": "code",
   "execution_count": 5,
   "id": "eda823d5-195c-4e8f-9839-d5fa1c223e1b",
   "metadata": {},
   "outputs": [
    {
     "data": {
      "text/html": [],
      "text/plain": [
       "<IPython.core.display.HTML object>"
      ]
     },
     "metadata": {},
     "output_type": "display_data"
    },
    {
     "name": "stdout",
     "output_type": "stream",
     "text": [
      "Evaluation results: {'eval_loss': 0.20563940703868866, 'eval_runtime': 69.2896, 'eval_samples_per_second': 10.232, 'eval_steps_per_second': 0.072, 'epoch': 3.0}\n",
      "Accuracy: 0.9351198871650211\n",
      "Precision: 0.9340992312682359\n",
      "Recall: 0.9351198871650211\n",
      "F1-Score: 0.9343947144766007\n"
     ]
    },
    {
     "data": {
      "image/png": "[encoded data removed]",
      "text/plain": [
       "<Figure size 640x480 with 2 Axes>"
      ]
     },
     "metadata": {},
     "output_type": "display_data"
    }
   ],
   "source": [
    "from sklearn.metrics import accuracy_score, precision_recall_fscore_support\n",
    "\n",
    "# Оценка модели\n",
    "eval_results = trainer.evaluate()\n",
    "print(f\"Evaluation results: {eval_results}\")\n",
    "\n",
    "# Выполнение предсказаний\n",
    "predictions, labels, _ = trainer.predict(dataset['test'])\n",
    "predicted_labels = predictions.argmax(axis=1)\n",
    "\n",
    "# Вычисление метрик\n",
    "accuracy = accuracy_score(labels, predicted_labels)\n",
    "precision, recall, f1, _ = precision_recall_fscore_support(labels, predicted_labels, average='weighted')\n",
    "\n",
    "print(f\"Accuracy: {accuracy}\")\n",
    "print(f\"Precision: {precision}\")\n",
    "print(f\"Recall: {recall}\")\n",
    "print(f\"F1-Score: {f1}\")\n",
    "\n",
    "# Анализ предсказаний по confusion matrix\n",
    "from sklearn.metrics import confusion_matrix\n",
    "import seaborn as sns\n",
    "import matplotlib.pyplot as plt\n",
    "\n",
    "cm = confusion_matrix(labels, predicted_labels)\n",
    "sns.heatmap(cm, annot=True, fmt='d', cmap='Blues', xticklabels=dataset['test'].features['label'].names, yticklabels=dataset['test'].features['label'].names)\n",
    "plt.xlabel('Predicted')\n",
    "plt.ylabel('True')\n",
    "plt.show()\n"
   ]
  },
  {
   "cell_type": "code",
   "execution_count": 6,
   "id": "1402e5e3-0fcb-4da8-9f84-e8ee9ba795af",
   "metadata": {},
   "outputs": [
    {
     "name": "stdout",
     "output_type": "stream",
     "text": [
      "Predicted class: pro\n"
     ]
    }
   ],
   "source": [
    "from PIL import Image\n",
    "import torch\n",
    "from torchvision.transforms import Compose, Resize, CenterCrop, ToTensor, Normalize\n",
    "from transformers import ViTForImageClassification, ViTImageProcessor\n",
    "\n",
    "# Функция загрузки изображения\n",
    "def load_image(image_path):\n",
    "    return Image.open(image_path)\n",
    "\n",
    "# Функция предобработки изображения\n",
    "def preprocess_image(image, image_processor):\n",
    "    transforms = Compose([\n",
    "        Resize((image_processor.size['height'], image_processor.size['width'])),\n",
    "        CenterCrop(image_processor.size['height']),\n",
    "        ToTensor(),\n",
    "        Normalize(mean=image_processor.image_mean, std=image_processor.image_std)\n",
    "    ])\n",
    "    return transforms(image)\n",
    "\n",
    "# Загрузка модели и процессора изображений из локальной директории\n",
    "output_dir = Path('./results/checkpoint-54')\n",
    "model = ViTForImageClassification.from_pretrained(output_dir)\n",
    "image_processor = ViTImageProcessor.from_pretrained(output_dir)\n",
    "\n",
    "# Классификация изображения\n",
    "def classify_image(image_path):\n",
    "    image = load_image(image_path)\n",
    "    image = preprocess_image(image, image_processor)\n",
    "    image = image.unsqueeze(0)  # Добавляем batch dimension\n",
    "\n",
    "    model.eval()\n",
    "    with torch.no_grad():\n",
    "        outputs = model(image)\n",
    "        logits = outputs.logits\n",
    "        predicted_class_idx = logits.argmax(-1).item()\n",
    "\n",
    "    return dataset['train'].features['label'].names[predicted_class_idx]\n",
    "\n",
    "\n",
    "\n",
    "# Пример использования\n",
    "image_path = 'Z:\\\\Hakatons\\\\Welding\\\\test\\\\1.jpg'\n",
    "predicted_class = classify_image(image_path)\n",
    "print(f\"Predicted class: {predicted_class}\")\n"
   ]
  },
  {
   "cell_type": "code",
   "execution_count": null,
   "id": "083250ad-5364-49fd-8208-40ca5249814c",
   "metadata": {},
   "outputs": [],
   "source": []
  }
 ],
 "metadata": {
  "kernelspec": {
   "display_name": "Python 3 (ipykernel)",
   "language": "python",
   "name": "python3"
  },
  "language_info": {
   "codemirror_mode": {
    "name": "ipython",
    "version": 3
   },
   "file_extension": ".py",
   "mimetype": "text/x-python",
   "name": "python",
   "nbconvert_exporter": "python",
   "pygments_lexer": "ipython3",
   "version": "3.9.19"
  }
 },
 "nbformat": 4,
 "nbformat_minor": 5
}
